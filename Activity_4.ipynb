{
  "nbformat": 4,
  "nbformat_minor": 0,
  "metadata": {
    "colab": {
      "provenance": [],
      "authorship_tag": "ABX9TyNrBRn8oYIou/PFXxrNcNJu",
      "include_colab_link": true
    },
    "kernelspec": {
      "name": "python3",
      "display_name": "Python 3"
    },
    "language_info": {
      "name": "python"
    }
  },
  "cells": [
    {
      "cell_type": "markdown",
      "metadata": {
        "id": "view-in-github",
        "colab_type": "text"
      },
      "source": [
        "<a href=\"https://colab.research.google.com/github/MarcAnthonyNovilla/DSAA-58010/blob/main/Activity_4.ipynb\" target=\"_parent\"><img src=\"https://colab.research.google.com/assets/colab-badge.svg\" alt=\"Open In Colab\"/></a>"
      ]
    },
    {
      "cell_type": "code",
      "source": [
        "def Number_Even():\n",
        "    Numbers = []\n",
        "\n",
        "    for num in list(range(0,51)):\n",
        "        if num% 2==0:\n",
        "            Numbers.append(num)\n",
        "\n",
        "    return Numbers\n",
        "\n",
        "Numbers = Number_Even()\n",
        "\n",
        "for num in Numbers:\n",
        "    print(\"Enqueued\", num)\n",
        "\n",
        "def Number_dequeue():\n",
        "    while Numbers:\n",
        "       num = Numbers.pop()\n",
        "       print(\"Dequeued\", num)\n",
        "\n",
        "Number_dequeue()"
      ],
      "metadata": {
        "colab": {
          "base_uri": "https://localhost:8080/"
        },
        "id": "VK-yY1UpWHSc",
        "outputId": "356571b6-6ff7-402b-fc0c-532e72e81671"
      },
      "execution_count": 9,
      "outputs": [
        {
          "output_type": "stream",
          "name": "stdout",
          "text": [
            "Enqueued 0\n",
            "Enqueued 2\n",
            "Enqueued 4\n",
            "Enqueued 6\n",
            "Enqueued 8\n",
            "Enqueued 10\n",
            "Enqueued 12\n",
            "Enqueued 14\n",
            "Enqueued 16\n",
            "Enqueued 18\n",
            "Enqueued 20\n",
            "Enqueued 22\n",
            "Enqueued 24\n",
            "Enqueued 26\n",
            "Enqueued 28\n",
            "Enqueued 30\n",
            "Enqueued 32\n",
            "Enqueued 34\n",
            "Enqueued 36\n",
            "Enqueued 38\n",
            "Enqueued 40\n",
            "Enqueued 42\n",
            "Enqueued 44\n",
            "Enqueued 46\n",
            "Enqueued 48\n",
            "Enqueued 50\n",
            "Dequeued 50\n",
            "Dequeued 48\n",
            "Dequeued 46\n",
            "Dequeued 44\n",
            "Dequeued 42\n",
            "Dequeued 40\n",
            "Dequeued 38\n",
            "Dequeued 36\n",
            "Dequeued 34\n",
            "Dequeued 32\n",
            "Dequeued 30\n",
            "Dequeued 28\n",
            "Dequeued 26\n",
            "Dequeued 24\n",
            "Dequeued 22\n",
            "Dequeued 20\n",
            "Dequeued 18\n",
            "Dequeued 16\n",
            "Dequeued 14\n",
            "Dequeued 12\n",
            "Dequeued 10\n",
            "Dequeued 8\n",
            "Dequeued 6\n",
            "Dequeued 4\n",
            "Dequeued 2\n",
            "Dequeued 0\n"
          ]
        }
      ]
    }
  ]
}