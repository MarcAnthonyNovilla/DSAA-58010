{
  "nbformat": 4,
  "nbformat_minor": 0,
  "metadata": {
    "colab": {
      "provenance": [],
      "authorship_tag": "ABX9TyM3xMSmodPoxDJXQ9DUzJAc",
      "include_colab_link": true
    },
    "kernelspec": {
      "name": "python3",
      "display_name": "Python 3"
    },
    "language_info": {
      "name": "python"
    }
  },
  "cells": [
    {
      "cell_type": "markdown",
      "metadata": {
        "id": "view-in-github",
        "colab_type": "text"
      },
      "source": [
        "<a href=\"https://colab.research.google.com/github/MarcAnthonyNovilla/DSAA-58010/blob/main/Practice_Problem.ipynb\" target=\"_parent\"><img src=\"https://colab.research.google.com/assets/colab-badge.svg\" alt=\"Open In Colab\"/></a>"
      ]
    },
    {
      "cell_type": "code",
      "execution_count": 9,
      "metadata": {
        "colab": {
          "base_uri": "https://localhost:8080/"
        },
        "id": "Vh7aTuPI2Kar",
        "outputId": "a99b81d1-77f7-4d81-9b10-b8722d86c44d"
      },
      "outputs": [
        {
          "output_type": "stream",
          "name": "stdout",
          "text": [
            "Enter the First score:\n",
            "26\n",
            "Enter the Second score:\n",
            "49\n",
            "Enter the Third score:\n",
            "98\n",
            "Enter the Fourth score:\n",
            "87\n",
            "Enter the Fifth score:\n",
            "62\n",
            "Enter the Six score:\n",
            "75\n",
            "the scores are 26 , 49 , 98 , 87 , 62 , 75  Sum is 397\n"
          ]
        }
      ],
      "source": [
        "z= int(input(\"Enter the First score:\\n\"))\n",
        "y= int(input(\"Enter the Second score:\\n\"))\n",
        "x= int(input(\"Enter the Third score:\\n\"))\n",
        "w= int(input(\"Enter the Fourth score:\\n\"))\n",
        "v= int(input(\"Enter the Fifth score:\\n\"))\n",
        "u= int(input(\"Enter the Six score:\\n\"))\n",
        "Sum=z+y+x+w+v+u\n",
        "print(\"the scores are\",z,\",\",y,\",\",x,\",\",w,\",\",v,\",\",u,\" Sum is\",Sum)"
      ]
    }
  ]
}