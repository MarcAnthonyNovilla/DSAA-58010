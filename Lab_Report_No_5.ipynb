{
  "nbformat": 4,
  "nbformat_minor": 0,
  "metadata": {
    "colab": {
      "provenance": [],
      "authorship_tag": "ABX9TyMX0dHrrrY35VaWKe5Uv3ht",
      "include_colab_link": true
    },
    "kernelspec": {
      "name": "python3",
      "display_name": "Python 3"
    },
    "language_info": {
      "name": "python"
    }
  },
  "cells": [
    {
      "cell_type": "markdown",
      "metadata": {
        "id": "view-in-github",
        "colab_type": "text"
      },
      "source": [
        "<a href=\"https://colab.research.google.com/github/MarcAnthonyNovilla/DSAA-58010/blob/main/Lab_Report_No_5.ipynb\" target=\"_parent\"><img src=\"https://colab.research.google.com/assets/colab-badge.svg\" alt=\"Open In Colab\"/></a>"
      ]
    },
    {
      "cell_type": "code",
      "source": [
        "numbers = [1, 2, 3, 4, 5, 6, 7, 8, 9, 10]\n",
        "\n",
        "print(\"Array items:\", numbers)\n",
        "\n",
        "sum_of_numbers = sum(numbers)\n",
        "\n",
        "print(\"Sum of array elements:\", sum_of_numbers)"
      ],
      "metadata": {
        "colab": {
          "base_uri": "https://localhost:8080/"
        },
        "id": "8sEMryOxvFj3",
        "outputId": "15631050-1265-42ac-a80e-de382aac2e94"
      },
      "execution_count": 8,
      "outputs": [
        {
          "output_type": "stream",
          "name": "stdout",
          "text": [
            "Array items: [1, 2, 3, 4, 5, 6, 7, 8, 9, 10]\n",
            "Sum of array elements: 55\n"
          ]
        }
      ]
    },
    {
      "cell_type": "code",
      "source": [
        "numbers = [1, 2, 3, 4, 5, 6, 7, 8, 9, 10]\n",
        "\n",
        "new_item = 99\n",
        "\n",
        "numbers.append(new_item)\n",
        "\n",
        "print(\"Updated array:\", numbers)"
      ],
      "metadata": {
        "colab": {
          "base_uri": "https://localhost:8080/"
        },
        "id": "Y67tkjkOuqVm",
        "outputId": "39b6d2b8-453d-4383-d7e2-9195e0e8b1aa"
      },
      "execution_count": 7,
      "outputs": [
        {
          "output_type": "stream",
          "name": "stdout",
          "text": [
            "Updated array: [1, 2, 3, 4, 5, 6, 7, 8, 9, 10, 99]\n"
          ]
        }
      ]
    },
    {
      "cell_type": "code",
      "source": [
        "numbers = [1, 2, 3, 4, 5, 6, 7, 8, 9, 10]\n",
        "\n",
        "new_item = 11\n",
        "\n",
        "numbers.insert(1, new_item)\n",
        "\n",
        "print(\"Updated array:\", numbers)"
      ],
      "metadata": {
        "colab": {
          "base_uri": "https://localhost:8080/"
        },
        "id": "xd19Ss78uXOu",
        "outputId": "748a082d-4cc6-461f-e5d7-4ecf12bba47c"
      },
      "execution_count": 6,
      "outputs": [
        {
          "output_type": "stream",
          "name": "stdout",
          "text": [
            "Updated array: [1, 11, 2, 3, 4, 5, 6, 7, 8, 9, 10]\n"
          ]
        }
      ]
    },
    {
      "cell_type": "code",
      "source": [
        "numbers = [5, 4, 3, 2, 1]\n",
        "\n",
        "numbers.reverse()\n",
        "\n",
        "print(\"Reversed array:\", numbers)"
      ],
      "metadata": {
        "colab": {
          "base_uri": "https://localhost:8080/"
        },
        "id": "KKhrbnwOt8GF",
        "outputId": "fb551291-2e23-4df6-ce81-de42b9504409"
      },
      "execution_count": 2,
      "outputs": [
        {
          "output_type": "stream",
          "name": "stdout",
          "text": [
            "Reversed array: [1, 2, 3, 4, 5]\n"
          ]
        }
      ]
    },
    {
      "cell_type": "code",
      "execution_count": 3,
      "metadata": {
        "colab": {
          "base_uri": "https://localhost:8080/"
        },
        "id": "Xo5TpT64tvX0",
        "outputId": "b0c21525-dcb9-41d4-9bf8-711fb3982399"
      },
      "outputs": [
        {
          "output_type": "stream",
          "name": "stdout",
          "text": [
            "Length of the array: 5\n"
          ]
        }
      ],
      "source": [
        "numbers = [5, 4, 3, 2, 1]\n",
        "\n",
        "length_of_array = len(numbers)\n",
        "\n",
        "print(\"Length of the array:\", length_of_array)"
      ]
    }
  ]
}