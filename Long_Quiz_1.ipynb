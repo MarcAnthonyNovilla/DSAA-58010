{
  "nbformat": 4,
  "nbformat_minor": 0,
  "metadata": {
    "colab": {
      "provenance": [],
      "authorship_tag": "ABX9TyOTqPt1KF0xgwqPm5wnKlW3",
      "include_colab_link": true
    },
    "kernelspec": {
      "name": "python3",
      "display_name": "Python 3"
    },
    "language_info": {
      "name": "python"
    }
  },
  "cells": [
    {
      "cell_type": "markdown",
      "metadata": {
        "id": "view-in-github",
        "colab_type": "text"
      },
      "source": [
        "<a href=\"https://colab.research.google.com/github/MarcAnthonyNovilla/DSAA-58010/blob/main/Long_Quiz_1.ipynb\" target=\"_parent\"><img src=\"https://colab.research.google.com/assets/colab-badge.svg\" alt=\"Open In Colab\"/></a>"
      ]
    },
    {
      "cell_type": "markdown",
      "source": [
        "1"
      ],
      "metadata": {
        "id": "IgmpFYxRM4Xk"
      }
    },
    {
      "cell_type": "code",
      "source": [
        "fullname=\"Marc Anthony P. Novilla\"\n",
        "\n",
        "array = []\n",
        "\n",
        "for char in fullname:\n",
        " array.append(char)\n",
        "\n",
        "for char in reversed(array):\n",
        "    print(char)"
      ],
      "metadata": {
        "colab": {
          "base_uri": "https://localhost:8080/"
        },
        "id": "fSPcqpbEYgo-",
        "outputId": "172d300b-5f37-4471-f898-2c82fcbf5656"
      },
      "execution_count": 58,
      "outputs": [
        {
          "output_type": "stream",
          "name": "stdout",
          "text": [
            "a\n",
            "l\n",
            "l\n",
            "i\n",
            "v\n",
            "o\n",
            "N\n",
            " \n",
            ".\n",
            "P\n",
            " \n",
            "y\n",
            "n\n",
            "o\n",
            "h\n",
            "t\n",
            "n\n",
            "A\n",
            " \n",
            "c\n",
            "r\n",
            "a\n",
            "M\n"
          ]
        }
      ]
    },
    {
      "cell_type": "markdown",
      "source": [
        "2"
      ],
      "metadata": {
        "id": "JHKxK6hoS6-k"
      }
    },
    {
      "cell_type": "code",
      "source": [
        "def prime_number(n):\n",
        "    if n < 2:\n",
        "         return False\n",
        "    for i in range(2,int(n**0.5 + 1)):\n",
        "        if n % i ==0:\n",
        "             return False\n",
        "    return True\n",
        "\n",
        "for  n in range(1,11):\n",
        "     if prime_number(n):\n",
        "      print(f\"{n} prime\")\n",
        "     else:\n",
        "      print(f\"{n}composite\")"
      ],
      "metadata": {
        "colab": {
          "base_uri": "https://localhost:8080/"
        },
        "id": "UJasgoJaS8PE",
        "outputId": "3dfe118f-b437-4533-8c40-83091179bf2f"
      },
      "execution_count": 72,
      "outputs": [
        {
          "output_type": "stream",
          "name": "stdout",
          "text": [
            "1composite\n",
            "2 prime\n",
            "3 prime\n",
            "4composite\n",
            "5 prime\n",
            "6composite\n",
            "7 prime\n",
            "8composite\n",
            "9composite\n",
            "10composite\n"
          ]
        }
      ]
    }
  ]
}