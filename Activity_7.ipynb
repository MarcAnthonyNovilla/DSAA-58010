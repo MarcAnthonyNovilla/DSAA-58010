{
  "nbformat": 4,
  "nbformat_minor": 0,
  "metadata": {
    "colab": {
      "provenance": [],
      "authorship_tag": "ABX9TyPUaH8bS0pnZrF37Uuw4Jlj",
      "include_colab_link": true
    },
    "kernelspec": {
      "name": "python3",
      "display_name": "Python 3"
    },
    "language_info": {
      "name": "python"
    }
  },
  "cells": [
    {
      "cell_type": "markdown",
      "metadata": {
        "id": "view-in-github",
        "colab_type": "text"
      },
      "source": [
        "<a href=\"https://colab.research.google.com/github/MarcAnthonyNovilla/DSAA-58010/blob/main/Activity_7.ipynb\" target=\"_parent\"><img src=\"https://colab.research.google.com/assets/colab-badge.svg\" alt=\"Open In Colab\"/></a>"
      ]
    },
    {
      "cell_type": "markdown",
      "source": [
        "Display Graph Edges"
      ],
      "metadata": {
        "id": "Ki5IWPgYn1em"
      }
    },
    {
      "cell_type": "code",
      "execution_count": 4,
      "metadata": {
        "colab": {
          "base_uri": "https://localhost:8080/"
        },
        "id": "hSxCxz5lmlkF",
        "outputId": "4d504456-f0fd-4aae-8f3d-f0ecb71eb27e"
      },
      "outputs": [
        {
          "output_type": "stream",
          "name": "stdout",
          "text": [
            "[{'b', 'a'}, {'c', 'a'}, {'d', 'b'}, {'c', 'd'}, {'e', 'd'}]\n"
          ]
        }
      ],
      "source": [
        "class graph:\n",
        "   def __init__(self,gdict=None):\n",
        "      if gdict is None:\n",
        "         gdict = {}\n",
        "      self.gdict = gdict\n",
        "\n",
        "   def edges(self):\n",
        "      return self.findedges()\n",
        "\n",
        "   def findedges(self):\n",
        "      edgename = []\n",
        "      for vrtx in self.gdict:\n",
        "         for nxtvrtx in self.gdict[vrtx]:\n",
        "            if {nxtvrtx, vrtx} not in edgename:\n",
        "              edgename.append({vrtx, nxtvrtx})\n",
        "      return edgename\n",
        "\n",
        "graph_elements = {\n",
        "    \"a\" : [\"b\",\"c\"],\n",
        "    \"b\" : [\"a\", \"d\"],\n",
        "    \"c\" : [\"a\", \"d\"],\n",
        "    \"d\" : [\"e\"],\n",
        "    \"e\" : [\"d\"]\n",
        "}\n",
        "g = graph(graph_elements)\n",
        "print(g.edges())"
      ]
    },
    {
      "cell_type": "markdown",
      "source": [
        "Display Graph Vertices"
      ],
      "metadata": {
        "id": "MxbLWP39nzoG"
      }
    },
    {
      "cell_type": "code",
      "source": [
        "class graph:\n",
        "  def __init__(self,gdict=None):\n",
        "    if gdict is None:\n",
        "       gdict = []\n",
        "    self.gdict = gdict\n",
        "\n",
        "  def getVertices(self):\n",
        "     return list(self.gdict.keys())\n",
        "\n",
        "graph_elements = {\n",
        "    \"a\" : [\"b\",\"c\"],\n",
        "    \"b\" : [\"a\", \"d\"],\n",
        "    \"c\" : [\"a\", \"d\"],\n",
        "    \"d\" : [\"e\"],\n",
        "    \"e\" : [\"d\"]\n",
        "}\n",
        "g = graph(graph_elements)\n",
        "print(g.getVertices())"
      ],
      "metadata": {
        "colab": {
          "base_uri": "https://localhost:8080/"
        },
        "id": "r_l3i6_1nzVP",
        "outputId": "8793c0f8-3011-448f-f0a8-63541cdfe18c"
      },
      "execution_count": 6,
      "outputs": [
        {
          "output_type": "stream",
          "name": "stdout",
          "text": [
            "['a', 'b', 'c', 'd', 'e']\n"
          ]
        }
      ]
    }
  ]
}