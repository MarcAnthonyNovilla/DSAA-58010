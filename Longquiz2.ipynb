{
  "nbformat": 4,
  "nbformat_minor": 0,
  "metadata": {
    "colab": {
      "provenance": [],
      "authorship_tag": "ABX9TyPVnj7ahhxaL+KXIulmXap8",
      "include_colab_link": true
    },
    "kernelspec": {
      "name": "python3",
      "display_name": "Python 3"
    },
    "language_info": {
      "name": "python"
    }
  },
  "cells": [
    {
      "cell_type": "markdown",
      "metadata": {
        "id": "view-in-github",
        "colab_type": "text"
      },
      "source": [
        "<a href=\"https://colab.research.google.com/github/MarcAnthonyNovilla/DSAA-58010/blob/main/Longquiz2.ipynb\" target=\"_parent\"><img src=\"https://colab.research.google.com/assets/colab-badge.svg\" alt=\"Open In Colab\"/></a>"
      ]
    },
    {
      "cell_type": "markdown",
      "source": [
        "Display Graph Edges"
      ],
      "metadata": {
        "id": "aHLI2JmbHXrn"
      }
    },
    {
      "cell_type": "code",
      "execution_count": 6,
      "metadata": {
        "colab": {
          "base_uri": "https://localhost:8080/"
        },
        "id": "pAn-v4MHHAQb",
        "outputId": "576a039c-de04-4e26-c411-0a8017401e2f"
      },
      "outputs": [
        {
          "output_type": "stream",
          "name": "stdout",
          "text": [
            "[{'I', 'E'}, {'J', 'E'}, {'E', 'K'}, {'M', 'E'}, {'I', 'F'}, {'J', 'F'}, {'K', 'F'}, {'P', 'F'}, {'I', 'H'}, {'J', 'H'}, {'H', 'K'}]\n"
          ]
        }
      ],
      "source": [
        "class graph:\n",
        "   def __init__(self,gdict=None):\n",
        "      if gdict is None:\n",
        "         gdict = {}\n",
        "      self.gdict = gdict\n",
        "\n",
        "   def edges(self):\n",
        "      return self.findedges()\n",
        "\n",
        "   def findedges(self):\n",
        "      edgename = []\n",
        "      for vrtx in self.gdict:\n",
        "         for nxtvrtx in self.gdict[vrtx]:\n",
        "            if {nxtvrtx, vrtx} not in edgename:\n",
        "              edgename.append({vrtx, nxtvrtx})\n",
        "      return edgename\n",
        "\n",
        "graph_elements = {\n",
        "    \"E\" : [\"I\",\"J\",\"K\",\"M\"],\n",
        "    \"F\" : [\"I\", \"J\",\"K\",\"P\"],\n",
        "    \"H\" : [\"I\", \"J\",\"K\"],\n",
        "    \"I\" : [\"E\",\"F\",\"H\"],\n",
        "    \"J\" : [\"E\",\"F\",\"H\"],\n",
        "    \"K\" : [\"E\",\"F\",\"H\"],\n",
        "    \"M\" : [\"E\"],\n",
        "    \"P\" : [\"F\"]\n",
        "}\n",
        "g = graph(graph_elements)\n",
        "print(g.edges())"
      ]
    },
    {
      "cell_type": "markdown",
      "source": [
        "Display Graph Vertices"
      ],
      "metadata": {
        "id": "_pKnXFR6HXB3"
      }
    },
    {
      "cell_type": "code",
      "source": [
        "class graph:\n",
        "  def __init__(self,gdict=None):\n",
        "    if gdict is None:\n",
        "       gdict = []\n",
        "    self.gdict = gdict\n",
        "\n",
        "  def getVertices(self):\n",
        "     return list(self.gdict.keys())\n",
        "\n",
        "graph_elements = {\n",
        "    \"E\" : [\"I\",\"J\",\"K\",\"M\"],\n",
        "    \"F\" : [\"I\", \"J\",\"K\",\"P\"],\n",
        "    \"H\" : [\"I\", \"J\",\"K\"],\n",
        "    \"I\" : [\"E\",\"F\",\"H\"],\n",
        "    \"J\" : [\"E\",\"F\",\"H\"],\n",
        "    \"K\" : [\"E\",\"F\",\"H\"],\n",
        "    \"M\" : [\"E\"],\n",
        "    \"P\" : [\"F\"]\n",
        "}\n",
        "g = graph(graph_elements)\n",
        "print(g.getVertices())"
      ],
      "metadata": {
        "colab": {
          "base_uri": "https://localhost:8080/"
        },
        "id": "vBzDhuUdHTwH",
        "outputId": "5737264a-0f73-475c-91de-296535ced8cb"
      },
      "execution_count": 7,
      "outputs": [
        {
          "output_type": "stream",
          "name": "stdout",
          "text": [
            "['E', 'F', 'H', 'I', 'J', 'K', 'M', 'P']\n"
          ]
        }
      ]
    }
  ]
}