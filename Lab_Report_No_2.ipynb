{
  "nbformat": 4,
  "nbformat_minor": 0,
  "metadata": {
    "colab": {
      "provenance": [],
      "authorship_tag": "ABX9TyPMdYG1YYm1BxvzMJxJorWW",
      "include_colab_link": true
    },
    "kernelspec": {
      "name": "python3",
      "display_name": "Python 3"
    },
    "language_info": {
      "name": "python"
    }
  },
  "cells": [
    {
      "cell_type": "markdown",
      "metadata": {
        "id": "view-in-github",
        "colab_type": "text"
      },
      "source": [
        "<a href=\"https://colab.research.google.com/github/MarcAnthonyNovilla/DSAA-58010/blob/main/Lab_Report_No_2.ipynb\" target=\"_parent\"><img src=\"https://colab.research.google.com/assets/colab-badge.svg\" alt=\"Open In Colab\"/></a>"
      ]
    },
    {
      "cell_type": "code",
      "execution_count": 11,
      "metadata": {
        "colab": {
          "base_uri": "https://localhost:8080/"
        },
        "id": "f9_HIRXneyrf",
        "outputId": "8d0d8405-8ace-4efc-b3bc-e971847b084e"
      },
      "outputs": [
        {
          "output_type": "stream",
          "name": "stdout",
          "text": [
            "Minimum value: 2\n",
            "Maximum value: 2\n"
          ]
        }
      ],
      "source": [
        "def F(x):\n",
        "    if x < 0:\n",
        "        return -x\n",
        "    else:\n",
        "        return x\n",
        "\n",
        "def find_min_max_recursive(x):\n",
        "    if isinstance(x, (int, float)):\n",
        "        return x, x\n",
        "    else:\n",
        "        if x < 0:\n",
        "            min_val, max_val = find_min_max_recursive(x)\n",
        "        else:\n",
        "            min_val, max_val = find_min_max_recursive(x)\n",
        "\n",
        "        return min_val, max_val\n",
        "\n",
        "min_val, max_val = find_min_max_recursive(2)\n",
        "\n",
        "print(f\"Minimum value: {min_val}\")\n",
        "print(f\"Maximum value: {max_val}\")"
      ]
    },
    {
      "cell_type": "code",
      "source": [
        "def find_min_max_recursive(sequence, index=0, min_value=None, max_value=None):\n",
        "    if index == len(sequence):\n",
        "        return min_value, max_value\n",
        "\n",
        "    current_value = sequence[index]\n",
        "\n",
        "    if min_value is None or current_value < min_value:\n",
        "        min_value = current_value\n",
        "\n",
        "    if max_value is None or current_value > max_value:\n",
        "        max_value = current_value\n",
        "\n",
        "    return find_min_max_recursive(sequence, index + 1, min_value, max_value)\n",
        "\n",
        "sequence = [0, 5, 6, -4, 8, -3, 1]\n",
        "min_value, max_value = find_min_max_recursive(sequence)\n",
        "print(\"Minimum value:\", min_value)\n",
        "print(\"Maximum value:\", max_value)"
      ],
      "metadata": {
        "colab": {
          "base_uri": "https://localhost:8080/"
        },
        "id": "mGnEL0H4i4fz",
        "outputId": "103ebb1a-fded-4952-d5a7-9d566b517531"
      },
      "execution_count": 12,
      "outputs": [
        {
          "output_type": "stream",
          "name": "stdout",
          "text": [
            "Minimum value: -4\n",
            "Maximum value: 8\n"
          ]
        }
      ]
    }
  ]
}