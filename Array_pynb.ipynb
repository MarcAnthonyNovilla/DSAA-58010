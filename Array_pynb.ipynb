{
  "nbformat": 4,
  "nbformat_minor": 0,
  "metadata": {
    "colab": {
      "provenance": [],
      "authorship_tag": "ABX9TyN3On/0d73dId4DGtSZhA4+",
      "include_colab_link": true
    },
    "kernelspec": {
      "name": "python3",
      "display_name": "Python 3"
    },
    "language_info": {
      "name": "python"
    }
  },
  "cells": [
    {
      "cell_type": "markdown",
      "metadata": {
        "id": "view-in-github",
        "colab_type": "text"
      },
      "source": [
        "<a href=\"https://colab.research.google.com/github/MarcAnthonyNovilla/DSAA-58010/blob/main/Array_pynb.ipynb\" target=\"_parent\"><img src=\"https://colab.research.google.com/assets/colab-badge.svg\" alt=\"Open In Colab\"/></a>"
      ]
    },
    {
      "cell_type": "markdown",
      "source": [
        "Accessing the Elements in the Array"
      ],
      "metadata": {
        "id": "PyLl0UzluiT4"
      }
    },
    {
      "cell_type": "code",
      "execution_count": 1,
      "metadata": {
        "colab": {
          "base_uri": "https://localhost:8080/"
        },
        "id": "uLuj2qc_uTv3",
        "outputId": "1da890f9-37c2-4e6f-c39b-bf58c6c6f1e2"
      },
      "outputs": [
        {
          "output_type": "stream",
          "name": "stdout",
          "text": [
            "cat\n"
          ]
        }
      ],
      "source": [
        "animals=[\"cat\",\"dog\",\"fish\"]\n",
        "x=animals[0]\n",
        "print(x)"
      ]
    },
    {
      "cell_type": "markdown",
      "source": [
        "Modifying the Elements in the Array"
      ],
      "metadata": {
        "id": "EWOK2DWwvN42"
      }
    },
    {
      "cell_type": "code",
      "source": [
        "animals=[\"cat\",\"dog\",\"fish\"]\n",
        "x=animals[0] = \"monkey\"\n",
        "print(animals)"
      ],
      "metadata": {
        "colab": {
          "base_uri": "https://localhost:8080/"
        },
        "id": "mDq78ZJZvXdl",
        "outputId": "ca70c22f-b465-42ba-d7ef-eaf52cd186d5"
      },
      "execution_count": 2,
      "outputs": [
        {
          "output_type": "stream",
          "name": "stdout",
          "text": [
            "['monkey', 'dog', 'fish']\n"
          ]
        }
      ]
    },
    {
      "cell_type": "markdown",
      "source": [
        "Length of an Array"
      ],
      "metadata": {
        "id": "3Qgw2wrjvqDN"
      }
    },
    {
      "cell_type": "code",
      "source": [
        "animals=[\"cat\",\"dog\",\"fish\"]\n",
        "x=len(animals)\n",
        "print(x)"
      ],
      "metadata": {
        "colab": {
          "base_uri": "https://localhost:8080/"
        },
        "id": "APrWOdhQvvH1",
        "outputId": "0232dbdb-b7c1-4861-8815-3052228de281"
      },
      "execution_count": 3,
      "outputs": [
        {
          "output_type": "stream",
          "name": "stdout",
          "text": [
            "3\n"
          ]
        }
      ]
    },
    {
      "cell_type": "code",
      "source": [
        "animals=[\"cat\",\"dog\",\"fish\"]\n",
        "animals.append(\"monkey\")\n",
        "print(animals)\n",
        "x=len(animals)\n",
        "print(x)"
      ],
      "metadata": {
        "colab": {
          "base_uri": "https://localhost:8080/"
        },
        "id": "40Vn_aKo0E9m",
        "outputId": "0b6641ec-9c57-4126-977d-70735b1a93e9"
      },
      "execution_count": 17,
      "outputs": [
        {
          "output_type": "stream",
          "name": "stdout",
          "text": [
            "['cat', 'dog', 'fish', 'monkey']\n",
            "4\n"
          ]
        }
      ]
    },
    {
      "cell_type": "markdown",
      "source": [
        "Looping Array Elements"
      ],
      "metadata": {
        "id": "vvlmNPy9vwxt"
      }
    },
    {
      "cell_type": "code",
      "source": [
        "animals=[\"cat\",\"dog\",\"fish\"]\n",
        "for x in animals:\n",
        "    print(x)"
      ],
      "metadata": {
        "colab": {
          "base_uri": "https://localhost:8080/"
        },
        "id": "JZLASpeGws6b",
        "outputId": "7239e7bd-b53e-42aa-de72-3a2e361f6217"
      },
      "execution_count": 7,
      "outputs": [
        {
          "output_type": "stream",
          "name": "stdout",
          "text": [
            "cat\n",
            "dog\n",
            "fish\n"
          ]
        }
      ]
    },
    {
      "cell_type": "markdown",
      "source": [
        "Adding Elements in Array"
      ],
      "metadata": {
        "id": "OA2DXWLWv2As"
      }
    },
    {
      "cell_type": "code",
      "source": [
        "animals=[\"cat\",\"dog\",\"fish\"]\n",
        "animals.append(\"monkey\")\n",
        "print(animals)"
      ],
      "metadata": {
        "colab": {
          "base_uri": "https://localhost:8080/"
        },
        "id": "auGvoLuWv6Ps",
        "outputId": "788b5850-529c-415b-dcb1-7ef68c4ef527"
      },
      "execution_count": 9,
      "outputs": [
        {
          "output_type": "stream",
          "name": "stdout",
          "text": [
            "['cat', 'dog', 'fish', 'monkey']\n"
          ]
        }
      ]
    },
    {
      "cell_type": "markdown",
      "source": [
        "Removing an Element in the Array"
      ],
      "metadata": {
        "id": "FTZEnUREv6i0"
      }
    },
    {
      "cell_type": "code",
      "source": [
        "animals=[\"cat\",\"dog\",\"fish\"]\n",
        "animals.pop(1)\n",
        "print(animals)"
      ],
      "metadata": {
        "colab": {
          "base_uri": "https://localhost:8080/"
        },
        "id": "BCB0Lw12wCIk",
        "outputId": "ca6ee06c-bf6d-40b1-87c6-0475c24382c5"
      },
      "execution_count": 16,
      "outputs": [
        {
          "output_type": "stream",
          "name": "stdout",
          "text": [
            "['cat', 'fish']\n"
          ]
        }
      ]
    },
    {
      "cell_type": "markdown",
      "source": [
        "Test Runs"
      ],
      "metadata": {
        "id": "F_dV2Jro2Th6"
      }
    },
    {
      "cell_type": "code",
      "source": [
        "animals=[\"cat\",\"dog\",\"fish\"]\n",
        "animals.append(\"monkey\")\n",
        "print(animals)\n",
        "x=len(animals)\n",
        "print(x)"
      ],
      "metadata": {
        "colab": {
          "base_uri": "https://localhost:8080/"
        },
        "id": "WNn3G5F72T5K",
        "outputId": "68aeb14f-0a23-4280-840a-88f72c5cd678"
      },
      "execution_count": 22,
      "outputs": [
        {
          "output_type": "stream",
          "name": "stdout",
          "text": [
            "['cat', 'dog', 'fish', 'monkey']\n",
            "4\n"
          ]
        }
      ]
    },
    {
      "cell_type": "code",
      "source": [
        "animals=[\"cat\",\"dog\",\"fish\"]\n",
        "animals.pop(1)\n",
        "print(animals[1])"
      ],
      "metadata": {
        "colab": {
          "base_uri": "https://localhost:8080/"
        },
        "id": "qa-EQuub2ZYK",
        "outputId": "606d122d-00ed-43f7-94c4-bed7980a72c8"
      },
      "execution_count": 21,
      "outputs": [
        {
          "output_type": "stream",
          "name": "stdout",
          "text": [
            "fish\n"
          ]
        }
      ]
    }
  ]
}