{
  "nbformat": 4,
  "nbformat_minor": 0,
  "metadata": {
    "colab": {
      "provenance": [],
      "authorship_tag": "ABX9TyOh+jSC2HMOTODz6VG2RcPD",
      "include_colab_link": true
    },
    "kernelspec": {
      "name": "python3",
      "display_name": "Python 3"
    },
    "language_info": {
      "name": "python"
    }
  },
  "cells": [
    {
      "cell_type": "markdown",
      "metadata": {
        "id": "view-in-github",
        "colab_type": "text"
      },
      "source": [
        "<a href=\"https://colab.research.google.com/github/MarcAnthonyNovilla/DSAA-58010/blob/main/Activity_2.ipynb\" target=\"_parent\"><img src=\"https://colab.research.google.com/assets/colab-badge.svg\" alt=\"Open In Colab\"/></a>"
      ]
    },
    {
      "cell_type": "code",
      "source": [
        "class Node:\n",
        "  def __init__(self, data):\n",
        "    self.data = data\n",
        "    self.next = None\n",
        "\n",
        "class LinkedList:\n",
        "  def __init__(self):\n",
        "    self.head = None\n",
        "    self.tail = None\n",
        "\n",
        "  def add_node(self,data):\n",
        "    new_node = Node(data)\n",
        "    if not self.head:\n",
        "      self.head = new_node\n",
        "      self.tail = new_node\n",
        "    else:\n",
        "      self.tail.next = new_node\n",
        "      self.tail = new_node\n",
        "\n",
        "def prime_number(n):\n",
        "    if n < 2:\n",
        "         return False\n",
        "    for i in range(2,int(n**0.5 + 1)):\n",
        "        if n % i ==0:\n",
        "             return False\n",
        "    return True\n",
        "\n",
        "prime_list = LinkedList()\n",
        "\n",
        "for  i in range(2,20):\n",
        "     if prime_number(i):\n",
        "         prime_list.add_node(i)\n",
        "\n",
        "current = prime_list.head\n",
        "print(\"Prime numbers:\")\n",
        "while current is not None:\n",
        "  print(current.data)\n",
        "  current = current.next\n",
        "\n",
        "print(\"\\nHead:\", prime_list.head.data)\n",
        "print(\"Tail\",prime_list.tail.data)"
      ],
      "metadata": {
        "colab": {
          "base_uri": "https://localhost:8080/"
        },
        "id": "DeZhQ6IDzZOT",
        "outputId": "3e93bbed-07c6-4836-d4ed-bd9d862668ca"
      },
      "execution_count": 1,
      "outputs": [
        {
          "output_type": "stream",
          "name": "stdout",
          "text": [
            "Prime numbers:\n",
            "2\n",
            "3\n",
            "5\n",
            "7\n",
            "11\n",
            "13\n",
            "17\n",
            "19\n",
            "\n",
            "Head: 2\n",
            "Tail 19\n"
          ]
        }
      ]
    }
  ]
}