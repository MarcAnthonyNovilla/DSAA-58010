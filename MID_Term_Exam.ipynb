{
  "nbformat": 4,
  "nbformat_minor": 0,
  "metadata": {
    "colab": {
      "provenance": [],
      "authorship_tag": "ABX9TyOkCJBVA1iv0vua3Pr/+F4f",
      "include_colab_link": true
    },
    "kernelspec": {
      "name": "python3",
      "display_name": "Python 3"
    },
    "language_info": {
      "name": "python"
    }
  },
  "cells": [
    {
      "cell_type": "markdown",
      "metadata": {
        "id": "view-in-github",
        "colab_type": "text"
      },
      "source": [
        "<a href=\"https://colab.research.google.com/github/MarcAnthonyNovilla/DSAA-58010/blob/main/MID_Term_Exam.ipynb\" target=\"_parent\"><img src=\"https://colab.research.google.com/assets/colab-badge.svg\" alt=\"Open In Colab\"/></a>"
      ]
    },
    {
      "cell_type": "code",
      "execution_count": 1,
      "metadata": {
        "id": "REUZuOhmb5vx"
      },
      "outputs": [],
      "source": [
        "class graph:\n",
        "   def __init__(self,gdict=None):\n",
        "      if gdict is None:\n",
        "         gdict = {}\n",
        "      self.gdict = gdict\n",
        "\n",
        "   def edges(self):\n",
        "      return self.findedges()\n",
        "\n",
        "   def findedges(self):\n",
        "      edgename = []\n",
        "      for vrtx in self.gdict:\n",
        "         for nxtvrtx in self.gdict[vrtx]:\n",
        "            if {nxtvrtx, vrtx} not in edgename:\n",
        "              edgename.append({vrtx, nxtvrtx})\n",
        "      return edgename\n",
        "\n",
        "graph_elements = {\n",
        "    \"A\" : [\"B\"],\n",
        "    \"B\" : [\"E\", \"F\",\"C\"],\n",
        "    \"C\" : [\"E\", \"F\",\"M\", \"D\",\"I\",],\n",
        "    \"D\" : [\"C\",\"L\",\"K\"],\n",
        "    \"E\" : [\"N\",\"B\",\"C\"],\n",
        "    \"F\" : [\"B\",\"G\",\"I\",\"C\"],\n",
        "    \"G\" : [\"F\",\"I\",\"J\"],\n",
        "    \"I\" : [\"F\",\"C\",\"K\",\"J\",],\n",
        "    \"J\" : [\"K\",\"I\",\"G\"],\n",
        "    \"K\" : [\"D\",\"I\",\"J\"],\n",
        "    \"L\" : [\"P\",\"M\",\"D\",],\n",
        "    \"M\" : [\"N\",\"O\",\"P\",\"L\",\"C\",],\n",
        "    \"N\" : [\"O\",\"N\",],\n",
        "    \"O\" : [\"\",],\n",
        "    \"P\" : [\"\",]\n",
        "}\n",
        "g = graph(graph_elements)\n",
        "print(g.edges())"
      ]
    },
    {
      "cell_type": "code",
      "source": [
        "class graph:\n",
        "  def __init__(self,gdict=None):\n",
        "    if gdict is None:\n",
        "       gdict = []\n",
        "    self.gdict = gdict\n",
        "\n",
        "  def getVertices(self):\n",
        "     return list(self.gdict.keys())\n",
        "\n",
        "graph_elements = {\n",
        "    \"A\" : [\"\",\"\",\"\",\"\"],\n",
        "    \"B\" : [\"\", \"\",\"\",\"\"],\n",
        "    \"C\" : [\"\", \"\",\"\"],\n",
        "    \"D\" : [\"\",\"\",\"\"],\n",
        "    \"E\" : [\"\",\"\",\"\"],\n",
        "    \"F\" : [\"\",\"\",\"\"],\n",
        "    \"G\" : [\"\"],\n",
        "    \"I\" : [\"\"],\n",
        "    \"J\" : [\"\"],\n",
        "    \"K\" : [\"\"],\n",
        "    \"L\" : [\"\"],\n",
        "    \"M\" : [\"\"],\n",
        "    \"N\" : [\"\"],\n",
        "    \"O\" : [\"\"],\n",
        "    \"P\" : [\"\"]\n",
        "}\n",
        "g = graph(graph_elements)\n",
        "print(g.getVertices())"
      ],
      "metadata": {
        "id": "ExmqRqQjtDwJ"
      },
      "execution_count": null,
      "outputs": []
    }
  ]
}